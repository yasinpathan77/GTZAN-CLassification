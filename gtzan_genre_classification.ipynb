{
  "cells": [
    {
      "cell_type": "markdown",
      "metadata": {
        "id": "7LJrGWeYKuua"
      },
      "source": [
        "# GTZAN Music Genre Classification with PyTorch\n",
        "\n",
        "This notebook demonstrates a complete workflow for music genre classification using the GTZAN dataset. We will build a deep learning model using PyTorch to classify audio files into different music genres."
      ]
    },
    {
      "cell_type": "markdown",
      "metadata": {
        "id": "npLv4Zq8Kuuc"
      },
      "source": [
        "## 1. Import Essential Libraries\n"
      ]
    },
    {
      "cell_type": "code",
      "execution_count": 28,
      "metadata": {
        "id": "9XiNYVk3Kuud"
      },
      "outputs": [],
      "source": [
        "import os\n",
        "import numpy as np\n",
        "import pandas as pd\n",
        "import matplotlib.pyplot as plt\n",
        "from sklearn.preprocessing import LabelEncoder\n",
        "from sklearn.metrics import classification_report\n",
        "import warnings\n",
        "warnings.filterwarnings('ignore')\n",
        "\n",
        "# Audio processing libraries\n",
        "import librosa\n",
        "import librosa.display\n",
        "\n",
        "# PyTorch libraries\n",
        "import torch\n",
        "import torch.nn as nn\n",
        "import torch.optim as optim\n",
        "from torch.utils.data import Dataset, DataLoader\n",
        "import torch.nn.functional as F\n",
        "\n",
        "# Set random seeds for reproducibility\n",
        "np.random.seed(42)\n",
        "torch.manual_seed(42)\n",
        "if torch.cuda.is_available():\n",
        "    torch.cuda.manual_seed(42)"
      ]
    },
    {
      "cell_type": "markdown",
      "metadata": {
        "id": "UMn0dAgXKuue"
      },
      "source": [
        "## 2. Dataset Configuration"
      ]
    },
    {
      "cell_type": "code",
      "execution_count": 29,
      "metadata": {
        "id": "0XDudDL-Kuue"
      },
      "outputs": [],
      "source": [
        "# Dataset paths\n",
        "DATA_PATH = 'Data-2'\n",
        "AUDIO_PATH = os.path.join(DATA_PATH, 'genres_original')\n",
        "FEATURES_PATH = os.path.join(DATA_PATH, 'features_30_sec.csv')\n",
        "\n",
        "# Configuration\n",
        "SAMPLE_RATE = 22050\n",
        "DURATION = 30  # seconds\n",
        "N_MFCC = 13\n",
        "N_MELS = 128\n",
        "HOP_LENGTH = 512\n",
        "N_FFT = 2048\n",
        "\n",
        "# Model configuration\n",
        "BATCH_SIZE = 32\n",
        "LEARNING_RATE = 0.001\n",
        "NUM_EPOCHS = 50\n",
        "if torch.cuda.is_available():\n",
        "    DEVICE = torch.device('cuda')\n",
        "elif torch.backends.mps.is_available():\n",
        "    DEVICE = torch.device('mps')\n",
        "else:\n",
        "    DEVICE = torch.device('cpu')"
      ]
    },
    {
      "cell_type": "code",
      "execution_count": 30,
      "metadata": {
        "colab": {
          "base_uri": "https://localhost:8080/"
        },
        "id": "6zFwSTBYKuuf",
        "outputId": "fbc29835-a8e4-4334-e99b-8efbc479b472"
      },
      "outputs": [
        {
          "name": "stdout",
          "output_type": "stream",
          "text": [
            "\n",
            "Dataset info:\n",
            "Dataset shape: (1000, 60)\n",
            "Number of audio files: 1000\n",
            "Number of features: 58\n",
            "Genres distribution:\n",
            "label\n",
            "blues        100\n",
            "classical    100\n",
            "country      100\n",
            "disco        100\n",
            "hiphop       100\n",
            "jazz         100\n",
            "metal        100\n",
            "pop          100\n",
            "reggae       100\n",
            "rock         100\n",
            "Name: count, dtype: int64\n"
          ]
        }
      ],
      "source": [
        "# Load the pre-extracted features\n",
        "if os.path.exists(FEATURES_PATH):\n",
        "    features_df = pd.read_csv(FEATURES_PATH)\n",
        "    GENRES = sorted(features_df['label'].unique()) if 'label' in features_df.columns else []\n",
        "    print(\"\\nDataset info:\")\n",
        "    print(f\"Dataset shape: {features_df.shape}\")\n",
        "    print(f\"Number of audio files: {len(features_df)}\")\n",
        "    print(f\"Number of features: {len(features_df.columns) - 2}\")  # excluding filename and label\n",
        "    print(f\"Genres distribution:\")\n",
        "    print(features_df['label'].value_counts().sort_index())\n",
        "else:\n",
        "    print(f\"Features file not found at {FEATURES_PATH}\")\n",
        "    print(\"We'll extract features from audio files directly.\")"
      ]
    },
    {
      "cell_type": "markdown",
      "metadata": {},
      "source": [
        "### For Kaggle Download (Use Collab Recommended)."
      ]
    },
    {
      "cell_type": "code",
      "execution_count": 31,
      "metadata": {
        "colab": {
          "base_uri": "https://localhost:8080/"
        },
        "id": "byl-sX9MMWc3",
        "outputId": "4f8329c2-b02a-42f4-b379-80fb58cf97cc"
      },
      "outputs": [],
      "source": [
        "# import kagglehub\n",
        "\n",
        "# # Download latest version\n",
        "# path = kagglehub.dataset_download(\"andradaolteanu/gtzan-dataset-music-genre-classification\")\n",
        "\n",
        "# print(\"Path to dataset files:\", path)\n",
        "# DATA_PATH = f'{path}/Data'"
      ]
    },
    {
      "cell_type": "markdown",
      "metadata": {
        "id": "dVXNPkj-Kuug"
      },
      "source": [
        "## 3. Audio Loading and Preprocessing"
      ]
    },
    {
      "cell_type": "code",
      "execution_count": 32,
      "metadata": {
        "id": "PwPIkk6kKuug"
      },
      "outputs": [],
      "source": [
        "def load_and_preprocess_audio(file_path, duration=30, sr=22050):\n",
        "    \"\"\"\n",
        "    Load and preprocess audio file with robust error handling\n",
        "\n",
        "    Args:\n",
        "        file_path: Path to audio file\n",
        "        duration: Duration to load in seconds\n",
        "        sr: Sample rate\n",
        "\n",
        "    Returns:\n",
        "        audio: Preprocessed audio signal or None if failed\n",
        "    \"\"\"\n",
        "    try:\n",
        "        # Load audio file with librosa\n",
        "        audio, _ = librosa.load(file_path, sr=sr, duration=duration)\n",
        "\n",
        "        # Check if audio was loaded successfully\n",
        "        if len(audio) == 0:\n",
        "            print(f\"Warning: Empty audio file {file_path}\")\n",
        "            return None\n",
        "\n",
        "        # Pad or trim to fixed length\n",
        "        target_length = sr * duration\n",
        "        if len(audio) > target_length:\n",
        "            audio = audio[:target_length]\n",
        "        else:\n",
        "            audio = np.pad(audio, (0, target_length - len(audio)), mode='constant')\n",
        "\n",
        "        return audio\n",
        "\n",
        "    except Exception as e:\n",
        "        print(f\"Error loading {file_path}: {e}\")\n",
        "        return None"
      ]
    },
    {
      "cell_type": "markdown",
      "metadata": {
        "id": "m3NgIb-oKuuh"
      },
      "source": [
        "## 4. Create PyTorch Dataset Class"
      ]
    },
    {
      "cell_type": "code",
      "execution_count": 33,
      "metadata": {
        "colab": {
          "base_uri": "https://localhost:8080/"
        },
        "id": "uk3OfzypKuuh",
        "outputId": "ceff3ce6-595f-4421-b9a2-56a37b4aab8c"
      },
      "outputs": [
        {
          "name": "stdout",
          "output_type": "stream",
          "text": [
            "Skipping corrupted file Data-2/genres_original/jazz/jazz.00054.wav: \n",
            "Dataset initialized with 999 files\n",
            "Skipped 1 corrupted files\n",
            "Genres distribution: {'blues': 100, 'classical': 100, 'country': 100, 'disco': 100, 'hiphop': 100, 'jazz': 99, 'metal': 100, 'pop': 100, 'reggae': 100, 'rock': 100}\n",
            "Test dataset length: 999\n",
            "Sample features shape: torch.Size([1, 128, 1292])\n",
            "Sample label: 0\n"
          ]
        }
      ],
      "source": [
        "class GTZANDataset(Dataset):\n",
        "    \"\"\"\n",
        "    GTZAN Dataset class for PyTorch\n",
        "    \"\"\"\n",
        "\n",
        "    def __init__(self, audio_path, genres, duration=30, sr=22050):\n",
        "        \"\"\"\n",
        "        Initialize the dataset\n",
        "\n",
        "        Args:\n",
        "            audio_path: Path to audio files directory\n",
        "            genres: List of genre names\n",
        "            duration: Duration of audio files in seconds\n",
        "            sr: Sample rate\n",
        "        \"\"\"\n",
        "        self.audio_path = audio_path\n",
        "        self.genres = genres\n",
        "        self.duration = duration\n",
        "        self.sr = sr\n",
        "\n",
        "        # Create label encoder\n",
        "        self.label_encoder = LabelEncoder()\n",
        "        self.label_encoder.fit(genres)\n",
        "\n",
        "        # Build file list and validate files\n",
        "        self.file_list = []\n",
        "        self.labels = []\n",
        "        corrupted_files = []\n",
        "\n",
        "        for genre in genres:\n",
        "            genre_path = os.path.join(audio_path, genre)\n",
        "            if os.path.exists(genre_path):\n",
        "                for file_name in os.listdir(genre_path):\n",
        "                    if file_name.endswith('.wav'):\n",
        "                        file_path = os.path.join(genre_path, file_name)\n",
        "                        # Quick validation check\n",
        "                        try:\n",
        "                            # Try to load just a small portion to check if file is readable\n",
        "                            test_audio, _ = librosa.load(file_path, sr=sr, duration=1.0)\n",
        "                            if len(test_audio) > 0:\n",
        "                                self.file_list.append(file_path)\n",
        "                                self.labels.append(genre)\n",
        "                            else:\n",
        "                                corrupted_files.append(file_path)\n",
        "                        except Exception as e:\n",
        "                            print(f\"Skipping corrupted file {file_path}: {e}\")\n",
        "                            corrupted_files.append(file_path)\n",
        "\n",
        "        print(f\"Dataset initialized with {len(self.file_list)} files\")\n",
        "        if corrupted_files:\n",
        "            print(f\"Skipped {len(corrupted_files)} corrupted files\")\n",
        "        print(f\"Genres distribution: {dict(zip(*np.unique(self.labels, return_counts=True)))}\")\n",
        "\n",
        "    def __len__(self):\n",
        "        return len(self.file_list)\n",
        "\n",
        "    def __getitem__(self, idx):\n",
        "        # Load audio file\n",
        "        file_path = self.file_list[idx]\n",
        "        audio = load_and_preprocess_audio(file_path, self.duration, self.sr)\n",
        "\n",
        "        if audio is None:\n",
        "            # Return zeros if loading failed - this shouldn't happen now with validation\n",
        "            print(f\"Warning: Failed to load {file_path}, using zeros\")\n",
        "            audio = np.zeros(self.sr * self.duration)\n",
        "\n",
        "        # Extract mel-spectrogram features\n",
        "        mel_spec = librosa.feature.melspectrogram(y=audio, sr=self.sr, n_mels=N_MELS,\n",
        "                                                 hop_length=HOP_LENGTH, n_fft=N_FFT)\n",
        "        features = librosa.power_to_db(mel_spec, ref=np.max)\n",
        "        features = torch.FloatTensor(features).unsqueeze(0)  # Add channel dimension\n",
        "\n",
        "        # Get label\n",
        "        label = self.label_encoder.transform([self.labels[idx]])[0]\n",
        "        label = torch.LongTensor([label]).squeeze()\n",
        "\n",
        "        return features, label\n",
        "\n",
        "# Test the dataset\n",
        "if os.path.exists(AUDIO_PATH):\n",
        "    test_dataset = GTZANDataset(AUDIO_PATH, GENRES)\n",
        "    print(f\"Test dataset length: {len(test_dataset)}\")\n",
        "\n",
        "    # Test loading a sample\n",
        "    if len(test_dataset) > 0:\n",
        "        sample_features, sample_label = test_dataset[0]\n",
        "        print(f\"Sample features shape: {sample_features.shape}\")\n",
        "        print(f\"Sample label: {sample_label}\")\n",
        "else:\n",
        "    print(f\"Audio path not found: {AUDIO_PATH}\")"
      ]
    },
    {
      "cell_type": "markdown",
      "metadata": {
        "id": "h-duvL6IKuuj"
      },
      "source": [
        "## 5. Prepare Data Loaders"
      ]
    },
    {
      "cell_type": "code",
      "execution_count": 34,
      "metadata": {
        "colab": {
          "base_uri": "https://localhost:8080/"
        },
        "id": "8kdswWbEN8q5",
        "outputId": "a7f7e914-5b68-4756-c38a-fc581d7e0c14"
      },
      "outputs": [
        {
          "name": "stdout",
          "output_type": "stream",
          "text": [
            "Detected genres: ['blues', 'classical', 'country', 'disco', 'hiphop', 'jazz', 'metal', 'pop', 'reggae', 'rock']\n"
          ]
        }
      ],
      "source": [
        "def get_genres(audio_path):\n",
        "    genres = [\n",
        "        d for d in os.listdir(audio_path)\n",
        "        if os.path.isdir(os.path.join(audio_path, d))\n",
        "    ]\n",
        "    genres.sort()  # optional: ensures consistent order\n",
        "    return genres\n",
        "\n",
        "GENRES = get_genres(AUDIO_PATH)\n",
        "print(\"Detected genres:\", GENRES)"
      ]
    },
    {
      "cell_type": "code",
      "execution_count": 35,
      "metadata": {
        "colab": {
          "base_uri": "https://localhost:8080/"
        },
        "id": "z7Hu839tKuuj",
        "outputId": "12f6d54a-dcd8-45e8-f175-c61a11971356"
      },
      "outputs": [
        {
          "name": "stdout",
          "output_type": "stream",
          "text": [
            "Skipping corrupted file Data-2/genres_original/jazz/jazz.00054.wav: \n",
            "Dataset initialized with 999 files\n",
            "Skipped 1 corrupted files\n",
            "Genres distribution: {'blues': 100, 'classical': 100, 'country': 100, 'disco': 100, 'hiphop': 100, 'jazz': 99, 'metal': 100, 'pop': 100, 'reggae': 100, 'rock': 100}\n",
            "Dataset splits:\n",
            "Train: 699 samples\n",
            "Validation: 149 samples\n",
            "Test: 151 samples\n",
            "Batch size: 32\n",
            "Number of batches - Train: 22, Val: 5, Test: 5\n",
            "\n",
            "Batch shapes:\n",
            "Features: torch.Size([32, 1, 128, 1292])\n",
            "Labels: torch.Size([32])\n",
            "Label distribution in batch: tensor([8, 2, 2, 1, 5, 2, 3, 4, 1, 4])\n"
          ]
        }
      ],
      "source": [
        "# Create full dataset\n",
        "if os.path.exists(AUDIO_PATH):\n",
        "    full_dataset = GTZANDataset(AUDIO_PATH, GENRES)\n",
        "\n",
        "    # Split dataset into train, validation, and test\n",
        "    train_size = int(0.7 * len(full_dataset))\n",
        "    val_size = int(0.15 * len(full_dataset))\n",
        "    test_size = len(full_dataset) - train_size - val_size\n",
        "\n",
        "    train_dataset, val_dataset, test_dataset = torch.utils.data.random_split(\n",
        "        full_dataset, [train_size, val_size, test_size],\n",
        "        generator=torch.Generator().manual_seed(42)\n",
        "    )\n",
        "\n",
        "    # Create data loaders\n",
        "    train_loader = DataLoader(train_dataset, batch_size=BATCH_SIZE, shuffle=True)\n",
        "    val_loader = DataLoader(val_dataset, batch_size=BATCH_SIZE, shuffle=False)\n",
        "    test_loader = DataLoader(test_dataset, batch_size=BATCH_SIZE, shuffle=False)\n",
        "\n",
        "    print(f\"Dataset splits:\")\n",
        "    print(f\"Train: {len(train_dataset)} samples\")\n",
        "    print(f\"Validation: {len(val_dataset)} samples\")\n",
        "    print(f\"Test: {len(test_dataset)} samples\")\n",
        "    print(f\"Batch size: {BATCH_SIZE}\")\n",
        "    print(f\"Number of batches - Train: {len(train_loader)}, Val: {len(val_loader)}, Test: {len(test_loader)}\")\n",
        "\n",
        "    # Test batch loading\n",
        "    for batch_features, batch_labels in train_loader:\n",
        "        print(f\"\\nBatch shapes:\")\n",
        "        print(f\"Features: {batch_features.shape}\")\n",
        "        print(f\"Labels: {batch_labels.shape}\")\n",
        "        print(f\"Label distribution in batch: {torch.bincount(batch_labels)}\")\n",
        "        break\n",
        "else:\n",
        "    print(f\"Cannot create dataset - audio path not found: {AUDIO_PATH}\")\n",
        "    print(\"Please ensure the GTZAN dataset is properly extracted in the Data-2 directory.\")"
      ]
    },
    {
      "cell_type": "code",
      "execution_count": 36,
      "metadata": {},
      "outputs": [
        {
          "name": "stdout",
          "output_type": "stream",
          "text": [
            "Saved up to 10 test samples per genre into 'test_data/'\n"
          ]
        }
      ],
      "source": [
        "output_root = 'test_data'\n",
        "\n",
        "for genre, paths in samples_per_genre.items():\n",
        "    genre_dir = os.path.join(output_root, genre)\n",
        "    os.makedirs(genre_dir, exist_ok=True)\n",
        "\n",
        "    n_to_save = min(10, len(paths))\n",
        "    picked = random.sample(paths, n_to_save)\n",
        "\n",
        "    for src in picked:\n",
        "        dst = os.path.join(genre_dir, os.path.basename(src))\n",
        "        shutil.copy(src, dst)\n",
        "\n",
        "print(f\"Saved up to 10 test samples per genre into '{output_root}/'\") "
      ]
    },
    {
      "cell_type": "markdown",
      "metadata": {
        "id": "dpI1HM5-Kuui"
      },
      "source": [
        "## 6. Define CNN Model Architecture"
      ]
    },
    {
      "cell_type": "code",
      "execution_count": 25,
      "metadata": {
        "id": "ZO-OkQP4Kuui"
      },
      "outputs": [],
      "source": [
        "class MusicGenreCNN(nn.Module):\n",
        "    \"\"\"\n",
        "    Convolutional Neural Network for Music Genre Classification\n",
        "    \"\"\"\n",
        "\n",
        "    def __init__(self, num_classes=10, input_channels=1):\n",
        "        super(MusicGenreCNN, self).__init__()\n",
        "\n",
        "        # Convolutional layers\n",
        "        self.conv1 = nn.Conv2d(input_channels, 32, kernel_size=3, padding=1)\n",
        "        self.conv2 = nn.Conv2d(32, 64, kernel_size=3, padding=1)\n",
        "        self.conv3 = nn.Conv2d(64, 128, kernel_size=3, padding=1)\n",
        "        self.conv4 = nn.Conv2d(128, 256, kernel_size=3, padding=1)\n",
        "\n",
        "        # Batch normalization layers\n",
        "        self.bn1 = nn.BatchNorm2d(32)\n",
        "        self.bn2 = nn.BatchNorm2d(64)\n",
        "        self.bn3 = nn.BatchNorm2d(128)\n",
        "        self.bn4 = nn.BatchNorm2d(256)\n",
        "\n",
        "        # Pooling layers\n",
        "        self.pool = nn.MaxPool2d(2, 2)\n",
        "        self.adaptive_pool = nn.AdaptiveAvgPool2d((4, 4))\n",
        "\n",
        "        # Dropout layers\n",
        "        self.dropout1 = nn.Dropout(0.25)\n",
        "        self.dropout2 = nn.Dropout(0.5)\n",
        "\n",
        "        # Fully connected layers\n",
        "        self.fc1 = nn.Linear(256 * 4 * 4, 512)\n",
        "        self.fc2 = nn.Linear(512, 256)\n",
        "        self.fc3 = nn.Linear(256, num_classes)\n",
        "\n",
        "    def forward(self, x):\n",
        "        # Convolutional layers with batch normalization, activation, and pooling\n",
        "        x = self.pool(F.relu(self.bn1(self.conv1(x))))\n",
        "        x = self.pool(F.relu(self.bn2(self.conv2(x))))\n",
        "        x = self.dropout1(x)\n",
        "\n",
        "        x = self.pool(F.relu(self.bn3(self.conv3(x))))\n",
        "        x = self.pool(F.relu(self.bn4(self.conv4(x))))\n",
        "        x = self.dropout1(x)\n",
        "\n",
        "        # Adaptive pooling to handle variable input sizes\n",
        "        x = self.adaptive_pool(x)\n",
        "\n",
        "        # Flatten for fully connected layers\n",
        "        x = x.view(-1, 256 * 4 * 4)\n",
        "\n",
        "        # Fully connected layers\n",
        "        x = F.relu(self.fc1(x))\n",
        "        x = self.dropout2(x)\n",
        "        x = F.relu(self.fc2(x))\n",
        "        x = self.dropout2(x)\n",
        "        x = self.fc3(x)\n",
        "\n",
        "        return x"
      ]
    },
    {
      "cell_type": "code",
      "execution_count": 26,
      "metadata": {
        "colab": {
          "base_uri": "https://localhost:8080/"
        },
        "id": "kwBq2YajKuuj",
        "outputId": "c777e9c8-0d14-47c3-c3b0-8a2fd1d32e7a"
      },
      "outputs": [
        {
          "name": "stdout",
          "output_type": "stream",
          "text": [
            "Model architecture:\n",
            "MusicGenreCNN(\n",
            "  (conv1): Conv2d(1, 32, kernel_size=(3, 3), stride=(1, 1), padding=(1, 1))\n",
            "  (conv2): Conv2d(32, 64, kernel_size=(3, 3), stride=(1, 1), padding=(1, 1))\n",
            "  (conv3): Conv2d(64, 128, kernel_size=(3, 3), stride=(1, 1), padding=(1, 1))\n",
            "  (conv4): Conv2d(128, 256, kernel_size=(3, 3), stride=(1, 1), padding=(1, 1))\n",
            "  (bn1): BatchNorm2d(32, eps=1e-05, momentum=0.1, affine=True, track_running_stats=True)\n",
            "  (bn2): BatchNorm2d(64, eps=1e-05, momentum=0.1, affine=True, track_running_stats=True)\n",
            "  (bn3): BatchNorm2d(128, eps=1e-05, momentum=0.1, affine=True, track_running_stats=True)\n",
            "  (bn4): BatchNorm2d(256, eps=1e-05, momentum=0.1, affine=True, track_running_stats=True)\n",
            "  (pool): MaxPool2d(kernel_size=2, stride=2, padding=0, dilation=1, ceil_mode=False)\n",
            "  (adaptive_pool): AdaptiveAvgPool2d(output_size=(4, 4))\n",
            "  (dropout1): Dropout(p=0.25, inplace=False)\n",
            "  (dropout2): Dropout(p=0.5, inplace=False)\n",
            "  (fc1): Linear(in_features=4096, out_features=512, bias=True)\n",
            "  (fc2): Linear(in_features=512, out_features=256, bias=True)\n",
            "  (fc3): Linear(in_features=256, out_features=10, bias=True)\n",
            ")\n",
            "\n",
            "Total trainable parameters: 2,620,362\n",
            "\n",
            "Test forward pass:\n",
            "Input shape: torch.Size([1, 1, 128, 1292])\n",
            "Output shape: torch.Size([1, 10])\n",
            "Output (logits): [[ 0.24472634 -0.11259107 -0.35057756  0.22141173 -0.0657101   0.22361916\n",
            "  -0.11974193  0.03141642  0.20971765 -0.00149362]]\n"
          ]
        }
      ],
      "source": [
        "# Initialize model\n",
        "model = MusicGenreCNN(num_classes=len(GENRES))\n",
        "model = model.to(DEVICE)\n",
        "\n",
        "# Model summary\n",
        "def count_parameters(model):\n",
        "    return sum(p.numel() for p in model.parameters() if p.requires_grad)\n",
        "\n",
        "print(f\"Model architecture:\")\n",
        "print(model)\n",
        "print(f\"\\nTotal trainable parameters: {count_parameters(model):,}\")\n",
        "\n",
        "# Test forward pass\n",
        "if 'sample_features' in locals():\n",
        "    sample_batch = sample_features.unsqueeze(0).to(DEVICE)\n",
        "    with torch.no_grad():\n",
        "        output = model(sample_batch)\n",
        "    print(f\"\\nTest forward pass:\")\n",
        "    print(f\"Input shape: {sample_batch.shape}\")\n",
        "    print(f\"Output shape: {output.shape}\")\n",
        "    print(f\"Output (logits): {output.cpu().numpy()}\")"
      ]
    },
    {
      "cell_type": "markdown",
      "metadata": {
        "id": "OSgEywQxKuuk"
      },
      "source": [
        "## 7. Training Setup and Functions"
      ]
    },
    {
      "cell_type": "code",
      "execution_count": 27,
      "metadata": {
        "id": "55uXN4Z8Kuuk"
      },
      "outputs": [],
      "source": [
        "# Loss function and optimizer\n",
        "criterion = nn.CrossEntropyLoss()\n",
        "optimizer = optim.Adam(model.parameters(), lr=LEARNING_RATE, weight_decay=1e-4)\n",
        "scheduler = optim.lr_scheduler.StepLR(optimizer, step_size=20, gamma=0.5)"
      ]
    },
    {
      "cell_type": "code",
      "execution_count": 28,
      "metadata": {
        "id": "CYk-hpAoKuul"
      },
      "outputs": [],
      "source": [
        "def train_epoch(model, train_loader, criterion, optimizer, device):\n",
        "    \"\"\"\n",
        "    Train the model for one epoch\n",
        "    \"\"\"\n",
        "    model.train()\n",
        "    running_loss = 0.0\n",
        "    correct = 0\n",
        "    total = 0\n",
        "\n",
        "    for batch_idx, (data, target) in enumerate(train_loader):\n",
        "        data, target = data.to(device), target.to(device)\n",
        "\n",
        "        optimizer.zero_grad()\n",
        "        output = model(data)\n",
        "        loss = criterion(output, target)\n",
        "        loss.backward()\n",
        "        optimizer.step()\n",
        "\n",
        "        running_loss += loss.item()\n",
        "        _, predicted = output.max(1)\n",
        "        total += target.size(0)\n",
        "        correct += predicted.eq(target).sum().item()\n",
        "\n",
        "    epoch_loss = running_loss / len(train_loader)\n",
        "    epoch_acc = 100. * correct / total\n",
        "\n",
        "    return epoch_loss, epoch_acc"
      ]
    },
    {
      "cell_type": "code",
      "execution_count": 29,
      "metadata": {
        "id": "ri-aoDr3Kuul"
      },
      "outputs": [],
      "source": [
        "def validate_epoch(model, val_loader, criterion, device):\n",
        "    \"\"\"\n",
        "    Validate the model for one epoch\n",
        "    \"\"\"\n",
        "    model.eval()\n",
        "    val_loss = 0.0\n",
        "    correct = 0\n",
        "    total = 0\n",
        "\n",
        "    with torch.no_grad():\n",
        "        for data, target in val_loader:\n",
        "            data, target = data.to(device), target.to(device)\n",
        "            output = model(data)\n",
        "            val_loss += criterion(output, target).item()\n",
        "\n",
        "            _, predicted = output.max(1)\n",
        "            total += target.size(0)\n",
        "            correct += predicted.eq(target).sum().item()\n",
        "\n",
        "    val_loss /= len(val_loader)\n",
        "    val_acc = 100. * correct / total\n",
        "\n",
        "    return val_loss, val_acc"
      ]
    },
    {
      "cell_type": "code",
      "execution_count": 30,
      "metadata": {
        "colab": {
          "base_uri": "https://localhost:8080/"
        },
        "id": "7Ufi-j1eKuul",
        "outputId": "34f8e6f0-0968-4778-d580-f3112c2b1bea"
      },
      "outputs": [
        {
          "name": "stdout",
          "output_type": "stream",
          "text": [
            "Training setup complete!\n",
            "Optimizer: Adam\n",
            "Learning rate: 0.001\n",
            "Loss function: CrossEntropyLoss\n",
            "Scheduler: StepLR\n"
          ]
        }
      ],
      "source": [
        "print(\"Training setup complete!\")\n",
        "print(f\"Optimizer: {optimizer.__class__.__name__}\")\n",
        "print(f\"Learning rate: {LEARNING_RATE}\")\n",
        "print(f\"Loss function: {criterion.__class__.__name__}\")\n",
        "print(f\"Scheduler: {scheduler.__class__.__name__}\")"
      ]
    },
    {
      "cell_type": "markdown",
      "metadata": {
        "id": "vdbQ7kj5Kuul"
      },
      "source": [
        "## 8. Model Training"
      ]
    },
    {
      "cell_type": "code",
      "execution_count": 31,
      "metadata": {
        "colab": {
          "base_uri": "https://localhost:8080/"
        },
        "id": "kv_oXqgbKuum",
        "outputId": "deecc6ab-e1ae-4337-b52c-af52107dc8f2"
      },
      "outputs": [
        {
          "name": "stdout",
          "output_type": "stream",
          "text": [
            "Starting training for 50 epochs...\n",
            "\n",
            "Epoch [1/50]\n",
            "Train Loss: 2.4596, Train Acc: 13.59%\n",
            "Val Loss: 3.0565, Val Acc: 11.41%\n",
            "Learning Rate: 0.001000\n",
            "Best Val Acc so far: 11.41%\n",
            "\n",
            "Epoch [5/50]\n",
            "Train Loss: 1.5892, Train Acc: 38.77%\n",
            "Val Loss: 1.4230, Val Acc: 41.61%\n",
            "Learning Rate: 0.001000\n",
            "Best Val Acc so far: 41.61%\n",
            "\n",
            "Epoch [10/50]\n",
            "Train Loss: 1.3191, Train Acc: 48.50%\n",
            "Val Loss: 1.3549, Val Acc: 46.31%\n",
            "Learning Rate: 0.001000\n",
            "Best Val Acc so far: 49.66%\n",
            "\n",
            "Epoch [15/50]\n",
            "Train Loss: 1.2096, Train Acc: 57.08%\n",
            "Val Loss: 1.1480, Val Acc: 60.40%\n",
            "Learning Rate: 0.001000\n",
            "Best Val Acc so far: 61.74%\n",
            "\n",
            "Epoch [20/50]\n",
            "Train Loss: 1.0891, Train Acc: 62.80%\n",
            "Val Loss: 1.9207, Val Acc: 36.91%\n",
            "Learning Rate: 0.000500\n",
            "Best Val Acc so far: 67.11%\n",
            "\n",
            "Epoch [25/50]\n",
            "Train Loss: 0.8703, Train Acc: 68.38%\n",
            "Val Loss: 0.9602, Val Acc: 65.77%\n",
            "Learning Rate: 0.000500\n",
            "Best Val Acc so far: 67.11%\n",
            "\n",
            "Epoch [30/50]\n",
            "Train Loss: 0.7951, Train Acc: 72.25%\n",
            "Val Loss: 0.9438, Val Acc: 68.46%\n",
            "Learning Rate: 0.000500\n",
            "Best Val Acc so far: 71.81%\n",
            "\n",
            "Epoch [35/50]\n",
            "Train Loss: 0.7384, Train Acc: 74.96%\n",
            "Val Loss: 1.0320, Val Acc: 63.76%\n",
            "Learning Rate: 0.000500\n",
            "Best Val Acc so far: 71.81%\n",
            "\n",
            "Epoch [40/50]\n",
            "Train Loss: 0.6567, Train Acc: 75.97%\n",
            "Val Loss: 0.9052, Val Acc: 74.50%\n",
            "Learning Rate: 0.000250\n",
            "Best Val Acc so far: 74.50%\n",
            "\n",
            "Epoch [45/50]\n",
            "Train Loss: 0.5627, Train Acc: 80.40%\n",
            "Val Loss: 0.8808, Val Acc: 76.51%\n",
            "Learning Rate: 0.000250\n",
            "Best Val Acc so far: 76.51%\n",
            "\n",
            "Epoch [50/50]\n",
            "Train Loss: 0.5485, Train Acc: 80.11%\n",
            "Val Loss: 0.8325, Val Acc: 75.84%\n",
            "Learning Rate: 0.000250\n",
            "Best Val Acc so far: 79.19%\n",
            "\n",
            "Loaded best model with validation accuracy: 79.19%\n",
            "Training completed!\n"
          ]
        }
      ],
      "source": [
        "# Training loop\n",
        "if 'train_loader' in locals():\n",
        "    train_losses = []\n",
        "    train_accuracies = []\n",
        "    val_losses = []\n",
        "    val_accuracies = []\n",
        "\n",
        "    best_val_acc = 0.0\n",
        "    best_model_state = None\n",
        "\n",
        "    print(f\"Starting training for {NUM_EPOCHS} epochs...\\n\")\n",
        "\n",
        "    for epoch in range(NUM_EPOCHS):\n",
        "        # Train\n",
        "        train_loss, train_acc = train_epoch(model, train_loader, criterion, optimizer, DEVICE)\n",
        "\n",
        "        # Validate\n",
        "        val_loss, val_acc = validate_epoch(model, val_loader, criterion, DEVICE)\n",
        "\n",
        "        # Update learning rate\n",
        "        scheduler.step()\n",
        "\n",
        "        # Store metrics\n",
        "        train_losses.append(train_loss)\n",
        "        train_accuracies.append(train_acc)\n",
        "        val_losses.append(val_loss)\n",
        "        val_accuracies.append(val_acc)\n",
        "\n",
        "        # Save best model\n",
        "        if val_acc > best_val_acc:\n",
        "            best_val_acc = val_acc\n",
        "            best_model_state = model.state_dict().copy()\n",
        "\n",
        "        # Print progress\n",
        "        if (epoch + 1) % 5 == 0 or epoch == 0:\n",
        "            current_lr = optimizer.param_groups[0]['lr']\n",
        "            print(f'Epoch [{epoch+1}/{NUM_EPOCHS}]')\n",
        "            print(f'Train Loss: {train_loss:.4f}, Train Acc: {train_acc:.2f}%')\n",
        "            print(f'Val Loss: {val_loss:.4f}, Val Acc: {val_acc:.2f}%')\n",
        "            print(f'Learning Rate: {current_lr:.6f}')\n",
        "            print(f'Best Val Acc so far: {best_val_acc:.2f}%\\n')\n",
        "\n",
        "    # Load best model\n",
        "    if best_model_state is not None:\n",
        "        model.load_state_dict(best_model_state)\n",
        "        print(f\"Loaded best model with validation accuracy: {best_val_acc:.2f}%\")\n",
        "\n",
        "    print(\"Training completed!\")\n",
        "else:\n",
        "    print(\"Cannot start training - data loaders not created\")\n",
        "    print(\"This might be because the audio files are not found.\")\n",
        "    print(\"For demonstration, we'll create a dummy training simulation...\")\n",
        "\n",
        "    # Dummy training simulation for demonstration\n",
        "    train_losses = [2.3 - 0.03*i + 0.1*np.sin(i/5) for i in range(NUM_EPOCHS)]\n",
        "    train_accuracies = [10 + 1.5*i + 2*np.sin(i/3) for i in range(NUM_EPOCHS)]\n",
        "    val_losses = [2.1 - 0.025*i + 0.12*np.sin(i/4) for i in range(NUM_EPOCHS)]\n",
        "    val_accuracies = [12 + 1.3*i + 3*np.sin(i/4) for i in range(NUM_EPOCHS)]\n",
        "\n",
        "    print(\"Created dummy training curves for visualization\")"
      ]
    },
    {
      "cell_type": "code",
      "execution_count": 32,
      "metadata": {
        "colab": {
          "base_uri": "https://localhost:8080/",
          "height": 605
        },
        "id": "Fi9SCFsGKuum",
        "outputId": "61e13a3b-9f41-4428-d632-035b3fadd6e2"
      },
      "outputs": [
        {
          "data": {
            "image/png": "[encoded data removed]",
            "text/plain": [
              "<Figure size 1500x500 with 2 Axes>"
            ]
          },
          "metadata": {},
          "output_type": "display_data"
        },
        {
          "name": "stdout",
          "output_type": "stream",
          "text": [
            "Final Training Results:\n",
            "Final Training Loss: 0.5485\n",
            "Final Training Accuracy: 80.11%\n",
            "Final Validation Loss: 0.8325\n",
            "Final Validation Accuracy: 75.84%\n",
            "Best Validation Accuracy: 79.19%\n"
          ]
        }
      ],
      "source": [
        "# Plot training curves\n",
        "if train_losses:\n",
        "    fig, (ax1, ax2) = plt.subplots(1, 2, figsize=(15, 5))\n",
        "\n",
        "    # Loss curves\n",
        "    epochs = range(1, len(train_losses) + 1)\n",
        "    ax1.plot(epochs, train_losses, 'b-', label='Training Loss', linewidth=2)\n",
        "    ax1.plot(epochs, val_losses, 'r-', label='Validation Loss', linewidth=2)\n",
        "    ax1.set_title('Training and Validation Loss')\n",
        "    ax1.set_xlabel('Epoch')\n",
        "    ax1.set_ylabel('Loss')\n",
        "    ax1.legend()\n",
        "    ax1.grid(True, alpha=0.3)\n",
        "\n",
        "    # Accuracy curves\n",
        "    ax2.plot(epochs, train_accuracies, 'b-', label='Training Accuracy', linewidth=2)\n",
        "    ax2.plot(epochs, val_accuracies, 'r-', label='Validation Accuracy', linewidth=2)\n",
        "    ax2.set_title('Training and Validation Accuracy')\n",
        "    ax2.set_xlabel('Epoch')\n",
        "    ax2.set_ylabel('Accuracy (%)')\n",
        "    ax2.legend()\n",
        "    ax2.grid(True, alpha=0.3)\n",
        "\n",
        "    plt.tight_layout()\n",
        "    plt.show()\n",
        "\n",
        "    # Print final results\n",
        "    print(f\"Final Training Results:\")\n",
        "    print(f\"Final Training Loss: {train_losses[-1]:.4f}\")\n",
        "    print(f\"Final Training Accuracy: {train_accuracies[-1]:.2f}%\")\n",
        "    print(f\"Final Validation Loss: {val_losses[-1]:.4f}\")\n",
        "    print(f\"Final Validation Accuracy: {val_accuracies[-1]:.2f}%\")\n",
        "    if 'best_val_acc' in locals():\n",
        "        print(f\"Best Validation Accuracy: {best_val_acc:.2f}%\")"
      ]
    },
    {
      "cell_type": "markdown",
      "metadata": {
        "id": "QY4Ve92UKuun"
      },
      "source": [
        "## 9. Model Evaluation and Testing"
      ]
    },
    {
      "cell_type": "code",
      "execution_count": 33,
      "metadata": {
        "id": "mHQnbe5YKuun"
      },
      "outputs": [],
      "source": [
        "def evaluate_model(model, test_loader, device, genre_names):\n",
        "    \"\"\"\n",
        "    Evaluate model on test set and return detailed metrics\n",
        "    \"\"\"\n",
        "    model.eval()\n",
        "    all_predictions = []\n",
        "    all_targets = []\n",
        "    test_loss = 0.0\n",
        "\n",
        "    with torch.no_grad():\n",
        "        for data, target in test_loader:\n",
        "            data, target = data.to(device), target.to(device)\n",
        "            output = model(data)\n",
        "            test_loss += F.cross_entropy(output, target, reduction='sum').item()\n",
        "\n",
        "            _, predicted = output.max(1)\n",
        "            all_predictions.extend(predicted.cpu().numpy())\n",
        "            all_targets.extend(target.cpu().numpy())\n",
        "\n",
        "    test_loss /= len(test_loader.dataset)\n",
        "    test_accuracy = 100. * sum(p == t for p, t in zip(all_predictions, all_targets)) / len(all_targets)\n",
        "\n",
        "    return all_predictions, all_targets, test_loss, test_accuracy"
      ]
    },
    {
      "cell_type": "code",
      "execution_count": 34,
      "metadata": {
        "colab": {
          "base_uri": "https://localhost:8080/"
        },
        "id": "6amLDvWiKuuo",
        "outputId": "602c8043-64c1-478e-da85-51ce19255582"
      },
      "outputs": [
        {
          "name": "stdout",
          "output_type": "stream",
          "text": [
            "Test Results:\n",
            "Test Loss: 0.6987\n",
            "Test Accuracy: 77.48%\n",
            "\n",
            "Detailed Classification Report:\n",
            "              precision    recall  f1-score   support\n",
            "\n",
            "       blues       0.92      0.75      0.83        16\n",
            "   classical       1.00      0.82      0.90        11\n",
            "     country       0.70      0.84      0.76        19\n",
            "       disco       0.93      0.67      0.78        21\n",
            "      hiphop       0.65      0.85      0.73        13\n",
            "        jazz       0.71      0.83      0.77        12\n",
            "       metal       1.00      1.00      1.00        12\n",
            "         pop       0.70      0.82      0.76        17\n",
            "      reggae       0.82      0.60      0.69        15\n",
            "        rock       0.59      0.67      0.62        15\n",
            "\n",
            "    accuracy                           0.77       151\n",
            "   macro avg       0.80      0.78      0.78       151\n",
            "weighted avg       0.80      0.77      0.78       151\n",
            "\n"
          ]
        }
      ],
      "source": [
        "# Evaluate on test set\n",
        "if 'test_loader' in locals():\n",
        "    predictions, targets, test_loss, test_accuracy = evaluate_model(model, test_loader, DEVICE, GENRES)\n",
        "\n",
        "    print(f\"Test Results:\")\n",
        "    print(f\"Test Loss: {test_loss:.4f}\")\n",
        "    print(f\"Test Accuracy: {test_accuracy:.2f}%\")\n",
        "\n",
        "    # Classification report\n",
        "    print(\"\\nDetailed Classification Report:\")\n",
        "    print(classification_report(targets, predictions, target_names=GENRES))\n",
        "\n",
        "else:\n",
        "    print(\"Test evaluation not available - using dummy data for demonstration\")\n",
        "    # Create dummy data for visualization\n",
        "    predictions = np.random.randint(0, len(GENRES), 100)\n",
        "    targets = np.random.randint(0, len(GENRES), 100)\n",
        "    test_accuracy = 65.5\n",
        "    print(f\"Simulated Test Accuracy: {test_accuracy:.2f}%\")\n"
      ]
    },
    {
      "cell_type": "markdown",
      "metadata": {
        "id": "ODPbE2wQKuuo"
      },
      "source": [
        "## 10. Prediction Function for New Audio Files"
      ]
    },
    {
      "cell_type": "code",
      "execution_count": 35,
      "metadata": {
        "colab": {
          "base_uri": "https://localhost:8080/"
        },
        "id": "Xth_vEBGKuuo",
        "outputId": "06fd0e34-56bf-4e4d-e289-f1fc210dfb38"
      },
      "outputs": [
        {
          "name": "stdout",
          "output_type": "stream",
          "text": [
            "Testing prediction on: /root/.cache/kagglehub/datasets/andradaolteanu/gtzan-dataset-music-genre-classification/versions/1/Data/genres_original/blues/blues.00001.wav\n",
            "True genre: blues\n",
            "\n",
            "Top 5 Predictions:\n",
            "1. blues: 0.771 (77.1%)\n",
            "2. jazz: 0.119 (11.9%)\n",
            "3. reggae: 0.052 (5.2%)\n",
            "4. disco: 0.019 (1.9%)\n",
            "5. rock: 0.014 (1.4%)\n",
            "\n",
            "Correct prediction! Model predicted 'blues' with confidence 77.1%\n"
          ]
        }
      ],
      "source": [
        "def predict_genre(model, audio_file_path, device, genre_names, top_k=3):\n",
        "    \"\"\"\n",
        "    Predict genre for a single audio file\n",
        "\n",
        "    Args:\n",
        "        model: Trained model\n",
        "        audio_file_path: Path to audio file\n",
        "        device: Device to run inference on\n",
        "        genre_names: List of genre names\n",
        "        top_k: Number of top predictions to return\n",
        "\n",
        "    Returns:\n",
        "        predictions: List of (genre, confidence) tuples\n",
        "    \"\"\"\n",
        "    model.eval()\n",
        "\n",
        "    # Load and preprocess audio\n",
        "    audio = load_and_preprocess_audio(audio_file_path, DURATION, SAMPLE_RATE)\n",
        "\n",
        "    if audio is None:\n",
        "        return [(\"Error loading audio\", 0.0)]\n",
        "\n",
        "    # Extract mel-spectrogram features\n",
        "    mel_spec = librosa.feature.melspectrogram(y=audio, sr=SAMPLE_RATE, n_mels=N_MELS,\n",
        "                                             hop_length=HOP_LENGTH, n_fft=N_FFT)\n",
        "    features = librosa.power_to_db(mel_spec, ref=np.max)\n",
        "    features = torch.FloatTensor(features).unsqueeze(0).unsqueeze(0).to(device)  # Add batch and channel dims\n",
        "\n",
        "    # Make prediction\n",
        "    with torch.no_grad():\n",
        "        output = model(features)\n",
        "        probabilities = F.softmax(output, dim=1)\n",
        "\n",
        "        # Get top-k predictions\n",
        "        top_probs, top_indices = torch.topk(probabilities, top_k)\n",
        "\n",
        "        predictions = []\n",
        "        for i in range(top_k):\n",
        "            genre_idx = top_indices[0][i].item()\n",
        "            confidence = top_probs[0][i].item()\n",
        "            predictions.append((genre_names[genre_idx], confidence))\n",
        "\n",
        "    return predictions\n",
        "\n",
        "# Test prediction function with a sample file\n",
        "if os.path.exists(AUDIO_PATH):\n",
        "    # Find a test file\n",
        "    test_genre = 'blues'\n",
        "    test_file = os.path.join(AUDIO_PATH, test_genre, f'{test_genre}.00001.wav')\n",
        "\n",
        "    if os.path.exists(test_file):\n",
        "        print(f\"Testing prediction on: {test_file}\")\n",
        "        print(f\"True genre: {test_genre}\")\n",
        "\n",
        "        predictions = predict_genre(model, test_file, DEVICE, GENRES, top_k=5)\n",
        "\n",
        "        print(\"\\nTop 5 Predictions:\")\n",
        "        for i, (genre, confidence) in enumerate(predictions):\n",
        "            print(f\"{i+1}. {genre}: {confidence:.3f} ({confidence*100:.1f}%)\")\n",
        "\n",
        "        # Check if prediction is correct\n",
        "        predicted_genre = predictions[0][0]\n",
        "        if predicted_genre == test_genre:\n",
        "            print(f\"\\nCorrect prediction! Model predicted '{predicted_genre}' with confidence {predictions[0][1]*100:.1f}%\")\n",
        "        else:\n",
        "            print(f\"\\nIncorrect prediction. Model predicted '{predicted_genre}' but true genre is '{test_genre}'\")\n",
        "    else:\n",
        "        print(f\"Test file not found: {test_file}\")\n",
        "else:\n",
        "    print(\"Cannot test prediction - audio files not available\")\n",
        "    print(\"The prediction function is ready to use when you have audio files.\")"
      ]
    },
    {
      "cell_type": "markdown",
      "metadata": {
        "id": "vnZDcJhiKuup"
      },
      "source": [
        "## 11. Model Saving and Loading"
      ]
    },
    {
      "cell_type": "code",
      "execution_count": 36,
      "metadata": {
        "colab": {
          "base_uri": "https://localhost:8080/"
        },
        "id": "gTIlrIBrKuup",
        "outputId": "b45d98b4-cdc9-4f2c-dcbc-9425c901fdc5"
      },
      "outputs": [
        {
          "name": "stdout",
          "output_type": "stream",
          "text": [
            "Model saved to gtzan_genre_classifier.pth\n",
            "\n",
            "To load the model later, use:\n",
            "model, checkpoint = load_model('gtzan_genre_classifier.pth', device)\n"
          ]
        }
      ],
      "source": [
        "# Save the trained model\n",
        "def save_model(model, optimizer, epoch, loss, filepath):\n",
        "    \"\"\"\n",
        "    Save model checkpoint\n",
        "    \"\"\"\n",
        "    torch.save({\n",
        "        'epoch': epoch,\n",
        "        'model_state_dict': model.state_dict(),\n",
        "        'optimizer_state_dict': optimizer.state_dict(),\n",
        "        'loss': loss,\n",
        "        'genres': GENRES,\n",
        "        'model_config': {\n",
        "            'num_classes': len(GENRES),\n",
        "            'input_channels': 1\n",
        "        }\n",
        "    }, filepath)\n",
        "    print(f\"Model saved to {filepath}\")\n",
        "\n",
        "def load_model(filepath, device):\n",
        "    \"\"\"\n",
        "    Load model checkpoint\n",
        "    \"\"\"\n",
        "    checkpoint = torch.load(filepath, map_location=device)\n",
        "\n",
        "    # Create model with same configuration\n",
        "    model = MusicGenreCNN(**checkpoint['model_config'])\n",
        "    model.load_state_dict(checkpoint['model_state_dict'])\n",
        "    model = model.to(device)\n",
        "\n",
        "    print(f\"Model loaded from {filepath}\")\n",
        "    print(f\"Trained for {checkpoint['epoch']} epochs\")\n",
        "    print(f\"Final loss: {checkpoint['loss']:.4f}\")\n",
        "\n",
        "    return model, checkpoint\n",
        "\n",
        "# Save the current model\n",
        "model_save_path = 'gtzan_genre_classifier.pth'\n",
        "if 'train_losses' in locals() and train_losses:\n",
        "    save_model(model, optimizer, NUM_EPOCHS, train_losses[-1], model_save_path)\n",
        "else:\n",
        "    print(\"Model not trained - skipping save\")\n",
        "    print(f\"To save a trained model, use: save_model(model, optimizer, epoch, loss, '{model_save_path}')\")\n",
        "\n",
        "print(f\"\\nTo load the model later, use:\")\n",
        "print(f\"model, checkpoint = load_model('{model_save_path}', device)\")"
      ]
    }
  ],
  "metadata": {
    "accelerator": "GPU",
    "colab": {
      "gpuType": "A100",
      "machine_shape": "hm",
      "provenance": []
    },
    "kernelspec": {
      "display_name": "Python 3",
      "name": "python3"
    },
    "language_info": {
      "codemirror_mode": {
        "name": "ipython",
        "version": 3
      },
      "file_extension": ".py",
      "mimetype": "text/x-python",
      "name": "python",
      "nbconvert_exporter": "python",
      "pygments_lexer": "ipython3",
      "version": "3.12.4"
    }
  },
  "nbformat": 4,
  "nbformat_minor": 0
}
